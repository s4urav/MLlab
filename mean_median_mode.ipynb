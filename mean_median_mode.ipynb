{
 "cells": [
  {
   "cell_type": "code",
   "execution_count": 4,
   "id": "considerable-viewer",
   "metadata": {},
   "outputs": [],
   "source": [
    "data = [115.3, 195.5, 120.5, 110.2, 90.4, 105.6, 110.9, 116.3, 122.3, 125.4]\n",
    "n = len(data)"
   ]
  },
  {
   "cell_type": "code",
   "execution_count": 8,
   "id": "operational-accused",
   "metadata": {},
   "outputs": [
    {
     "name": "stdout",
     "output_type": "stream",
     "text": [
      "121.23999999999998\n"
     ]
    }
   ],
   "source": [
    "# mean\n",
    "n = len(data)\n",
    "sum = 0\n",
    "for ele in data:\n",
    "    sum = sum + ele\n",
    "\n",
    "mean = sum/n\n",
    "print(mean)"
   ]
  },
  {
   "cell_type": "code",
   "execution_count": 6,
   "id": "valid-dayton",
   "metadata": {},
   "outputs": [
    {
     "name": "stdout",
     "output_type": "stream",
     "text": [
      "Median is: 115.8\n"
     ]
    }
   ],
   "source": [
    "# median\n",
    "data.sort()\n",
    "if n % 2 == 0:\n",
    "    median1 = data[n//2]\n",
    "    median2 = data[n//2 - 1]\n",
    "    median = (median1 + median2)/2\n",
    "else:\n",
    "    median = data[n//2]\n",
    "print(\"Median is: \" + str(median))\n"
   ]
  },
  {
   "cell_type": "code",
   "execution_count": 7,
   "id": "facial-participant",
   "metadata": {},
   "outputs": [
    {
     "name": "stdout",
     "output_type": "stream",
     "text": [
      "Mode(s) is/are :{195.5, 122.3, 105.6, 110.9, 110.2, 115.3, 116.3, 120.5, 90.4, 125.4}\n"
     ]
    }
   ],
   "source": [
    "# mode\n",
    "\n",
    "data.sort()\n",
    "L1 = []\n",
    "\n",
    "\n",
    "i = 0\n",
    "while i < len(data) :\n",
    "    L1.append(data.count(data[i]))\n",
    "    i += 1\n",
    "    \n",
    "d1 = dict(zip(data, L1))\n",
    "\n",
    "d2={k for (k,v) in d1.items() if v == max(L1) }\n",
    "  \n",
    "print(\"Mode(s) is/are :\" + str(d2))"
   ]
  },
  {
   "cell_type": "code",
   "execution_count": 15,
   "id": "sitting-wheat",
   "metadata": {},
   "outputs": [
    {
     "name": "stdout",
     "output_type": "stream",
     "text": [
      "variance : 779.747111111111\n"
     ]
    }
   ],
   "source": [
    "# variance\n",
    "\n",
    "sumSquare = 0\n",
    "\n",
    "for e in data:\n",
    "    sumSquare = sumSquare + ((e - mean)*(e - mean))\n",
    "\n",
    "var = sumSquare/(n-1)\n",
    "print(\"variance :\" , var)"
   ]
  },
  {
   "cell_type": "code",
   "execution_count": 21,
   "id": "pretty-hamburg",
   "metadata": {},
   "outputs": [
    {
     "name": "stdout",
     "output_type": "stream",
     "text": [
      "15.895999999999992\n"
     ]
    }
   ],
   "source": [
    "# standard deviation\n",
    "std_sum = 0\n",
    "\n",
    "for e in data:\n",
    "    std_sum = std_sum + abs(e - mean)\n",
    "    \n",
    "standard_deviation = std_sum/n\n",
    "    \n",
    "print(standard_deviation)"
   ]
  },
  {
   "cell_type": "code",
   "execution_count": 20,
   "id": "medical-columbia",
   "metadata": {},
   "outputs": [
    {
     "data": {
      "text/plain": [
       "[0.0,\n",
       " 0.14462416745956222,\n",
       " 0.18839200761179828,\n",
       " 0.1950523311132255,\n",
       " 0.23691722169362506,\n",
       " 0.24643196955280677,\n",
       " 0.2863939105613701,\n",
       " 0.3035204567078972,\n",
       " 0.3330161750713606,\n",
       " 1.0]"
      ]
     },
     "execution_count": 20,
     "metadata": {},
     "output_type": "execute_result"
    }
   ],
   "source": [
    "# minmax normalization\n",
    "\n",
    "z = []\n",
    "\n",
    "for e in data:\n",
    "    z.append((e - min(data))/ (max(data) - min(data)))\n",
    "\n",
    "z"
   ]
  },
  {
   "cell_type": "code",
   "execution_count": 22,
   "id": "bright-buddy",
   "metadata": {},
   "outputs": [
    {
     "data": {
      "text/plain": [
       "[-1.9401107196779057,\n",
       " -0.9838953195772517,\n",
       " -0.6945143432310005,\n",
       " -0.6504781077000491,\n",
       " -0.37367891293407063,\n",
       " -0.31077000503271174,\n",
       " -0.046552591847004346,\n",
       " 0.06668344237544144,\n",
       " 0.26170105686965445,\n",
       " 4.6716155007549105]"
      ]
     },
     "execution_count": 22,
     "metadata": {},
     "output_type": "execute_result"
    }
   ],
   "source": [
    "# standardization\n",
    "\n",
    "Z = []\n",
    "\n",
    "for xi in data:\n",
    "    Z.append((xi - mean)/standard_deviation)\n",
    "    \n",
    "Z"
   ]
  },
  {
   "cell_type": "code",
   "execution_count": null,
   "id": "applicable-forth",
   "metadata": {},
   "outputs": [],
   "source": []
  }
 ],
 "metadata": {
  "kernelspec": {
   "display_name": "Python 3",
   "language": "python",
   "name": "python3"
  },
  "language_info": {
   "codemirror_mode": {
    "name": "ipython",
    "version": 3
   },
   "file_extension": ".py",
   "mimetype": "text/x-python",
   "name": "python",
   "nbconvert_exporter": "python",
   "pygments_lexer": "ipython3",
   "version": "3.7.3"
  }
 },
 "nbformat": 4,
 "nbformat_minor": 5
}
