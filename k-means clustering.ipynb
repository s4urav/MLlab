{
 "cells": [
  {
   "cell_type": "code",
   "execution_count": 1,
   "id": "israeli-uzbekistan",
   "metadata": {},
   "outputs": [],
   "source": [
    "import numpy as np\n",
    "import math"
   ]
  },
  {
   "cell_type": "code",
   "execution_count": 2,
   "id": "variable-evening",
   "metadata": {},
   "outputs": [
    {
     "data": {
      "text/plain": [
       "[[5.9, 3.2],\n",
       " [4.6, 2.9],\n",
       " [6.2, 2.8],\n",
       " [4.7, 3.2],\n",
       " [5.5, 4.2],\n",
       " [5.0, 3.0],\n",
       " [4.9, 3.1],\n",
       " [6.7, 3.1],\n",
       " [5.1, 3.8],\n",
       " [6.0, 3.0]]"
      ]
     },
     "execution_count": 2,
     "metadata": {},
     "output_type": "execute_result"
    }
   ],
   "source": [
    "X = [[5.9,3.2],[4.6,2.9],[6.2,2.8],[4.7,3.2],[5.5,4.2],[5.0,3.0],[4.9,3.1],[6.7,3.1],[5.1,3.8],[6.0,3.0]]\n",
    "X"
   ]
  },
  {
   "cell_type": "code",
   "execution_count": 3,
   "id": "friendly-classics",
   "metadata": {},
   "outputs": [
    {
     "data": {
      "text/plain": [
       "[6.6, 3.7]"
      ]
     },
     "execution_count": 3,
     "metadata": {},
     "output_type": "execute_result"
    }
   ],
   "source": [
    "k = 3\n",
    "clusters = {}\n",
    "centroids = [[6.2, 3.2], [6.6, 3.7], [6.5, 3.0]]\n",
    "centroids[1]"
   ]
  },
  {
   "cell_type": "code",
   "execution_count": 4,
   "id": "electrical-fifteen",
   "metadata": {},
   "outputs": [],
   "source": [
    "def k_means(X, centroids, k):\n",
    "    for l in range(k):\n",
    "        clusters[l] = []\n",
    "    for i in range(len(X)):\n",
    "        euc_dist = []\n",
    "        for j in range(k):\n",
    "            euc_dist.append(( (((centroids[j][0] - X[i][0]) ** 2) + ((centroids[j][1] - X[i][1]) ** 2)) ** (1/2) ))\n",
    "        clusters[euc_dist.index(min(euc_dist))].append(X[i])"
   ]
  },
  {
   "cell_type": "code",
   "execution_count": 5,
   "id": "cleared-maker",
   "metadata": {},
   "outputs": [],
   "source": [
    "def avg_cent(X, centroids, k):\n",
    "    for i in range(k):\n",
    "            x_sum = 0\n",
    "            y_sum = 0\n",
    "            for j in range(len(clusters[i])):\n",
    "                x_sum += clusters[i][j][0]\n",
    "                y_sum += clusters[i][j][1]\n",
    "            centroids[i] = [round( (x_sum / len(clusters[i])),3) , round( (y_sum / len(clusters[i])) , 3)] \n",
    "    return centroids"
   ]
  },
  {
   "cell_type": "code",
   "execution_count": 6,
   "id": "professional-intake",
   "metadata": {},
   "outputs": [
    {
     "name": "stdout",
     "output_type": "stream",
     "text": [
      "The centroid for cluster 1 is  [5.171, 3.171]\n"
     ]
    }
   ],
   "source": [
    "#centroid of cluster 1 after first iteration\n",
    "k_means(X, centroids, k)\n",
    "avg_cent(X, centroids, k)\n",
    "print(\"The centroid for cluster 1 is \", centroids[0])"
   ]
  },
  {
   "cell_type": "code",
   "execution_count": 7,
   "id": "fossil-warehouse",
   "metadata": {},
   "outputs": [
    {
     "name": "stdout",
     "output_type": "stream",
     "text": [
      "Iteration -  3  :  [[4.8, 3.05], [5.3, 4.0], [6.2, 3.025]]\n",
      "Iteration -  4  :  [[4.8, 3.05], [5.3, 4.0], [6.2, 3.025]]\n",
      "Iteration -  5  :  [[4.8, 3.05], [5.3, 4.0], [6.2, 3.025]]\n",
      "Iteration -  6  :  [[4.8, 3.05], [5.3, 4.0], [6.2, 3.025]]\n"
     ]
    }
   ],
   "source": [
    "for i in range(4):\n",
    "    k_means(X, centroids, k)\n",
    "    avg_cent(X, centroids, k)\n",
    "    print(\"Iteration - \", i + 3, \" : \", centroids)"
   ]
  },
  {
   "cell_type": "code",
   "execution_count": 8,
   "id": "noticed-measure",
   "metadata": {},
   "outputs": [
    {
     "name": "stdout",
     "output_type": "stream",
     "text": [
      "Cluster converges after 2 iterations\n",
      "The centroid for cluster 3 is  [6.2, 3.025]\n"
     ]
    }
   ],
   "source": [
    "print(\"Cluster converges after 2 iterations\")\n",
    "print(\"The centroid for cluster 3 is \", centroids[2])"
   ]
  },
  {
   "cell_type": "code",
   "execution_count": null,
   "id": "celtic-spank",
   "metadata": {},
   "outputs": [],
   "source": []
  }
 ],
 "metadata": {
  "kernelspec": {
   "display_name": "Python 3",
   "language": "python",
   "name": "python3"
  },
  "language_info": {
   "codemirror_mode": {
    "name": "ipython",
    "version": 3
   },
   "file_extension": ".py",
   "mimetype": "text/x-python",
   "name": "python",
   "nbconvert_exporter": "python",
   "pygments_lexer": "ipython3",
   "version": "3.7.3"
  }
 },
 "nbformat": 4,
 "nbformat_minor": 5
}
